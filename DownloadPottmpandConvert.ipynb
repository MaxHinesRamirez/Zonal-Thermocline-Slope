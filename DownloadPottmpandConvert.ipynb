{
 "cells": [
  {
   "cell_type": "code",
   "execution_count": 1,
   "id": "6f036a1b-d745-4fe1-bce5-f5382136d4f2",
   "metadata": {},
   "outputs": [],
   "source": [
    "import os\n",
    "from pathlib import Path\n",
    "\n",
    "import numpy as np\n",
    "import requests\n",
    "import xarray as xr"
   ]
  },
  {
   "cell_type": "markdown",
   "id": "e337676c-f876-4f71-88b2-335b91b60ff0",
   "metadata": {},
   "source": [
    "# Download data"
   ]
  },
  {
   "cell_type": "code",
   "execution_count": 18,
   "id": "1fc0daff-3548-4226-8d32-01f906a586dd",
   "metadata": {},
   "outputs": [],
   "source": [
    "\n",
    "ALL_VARIABLES = [\"pottmp\"]\n",
    "def download_data():\n",
    "    folder = Path(\"GODAS_data\")\n",
    "    folder.mkdir(exist_ok=True) \n",
    "    combined_files = [folder / f\"godas_{var}.nc\" for var in ALL_VARIABLES]\n",
    "    if all(cf.exists() for cf in combined_files):\n",
    "        print(\"Data appears to be already downloaded and combined. Skipping download.\")\n",
    "        return\n",
    "    years = np.arange(1980, 2024)\n",
    "    os.chdir(folder)\n",
    "\n",
    "    for year in years:\n",
    "        for var in ALL_VARIABLES:\n",
    "            filename = f\"{var}.{year}.nc\"\n",
    "            if not os.path.exists(filename):\n",
    "                url = f\"https://downloads.psl.noaa.gov/Datasets/godas/{var}.{year}.nc\"\n",
    "                print(f\"Downloading {filename}...\")\n",
    "                r = requests.get(url, allow_redirects=True)\n",
    "                with open(filename, \"wb\") as f:\n",
    "                    f.write(r.content)\n",
    "            else:\n",
    "                print(f\"{filename} already exists, skipping download.\")\n",
    "\n",
    "    for var in ALL_VARIABLES:\n",
    "        print(f\"Combining {var}.*.nc into godas_{var}.nc ...\")\n",
    "        ds = xr.open_mfdataset(f\"{var}.*.nc\", combine=\"nested\", concat_dim=\"time\")\n",
    "        ds.to_netcdf(f\"godas_{var}.nc\")\n",
    "\n",
    "    images_folder = Path(\"images\")\n",
    "    images_folder.mkdir(exist_ok=True)\n",
    "\n",
    "    print(\"Download and combination complete!\")\n",
    "    print(f\"Data files are located in: {folder.resolve()}\")\n"
   ]
  },
  {
   "cell_type": "code",
   "execution_count": 19,
   "id": "dab9b563-7321-4c53-b521-9eb354f9e673",
   "metadata": {},
   "outputs": [
    {
     "name": "stdout",
     "output_type": "stream",
     "text": [
      "Data appears to be already downloaded and combined. Skipping download.\n"
     ]
    }
   ],
   "source": [
    "download_data()"
   ]
  },
  {
   "cell_type": "markdown",
   "id": "f9b0bfbc-9a20-419d-b5bf-5c860b5be2f5",
   "metadata": {},
   "source": [
    "# Convert temp to C"
   ]
  },
  {
   "cell_type": "code",
   "execution_count": 22,
   "id": "b1e70e0c-3a30-4540-b2c1-2ee8fe1f844e",
   "metadata": {},
   "outputs": [
    {
     "name": "stdout",
     "output_type": "stream",
     "text": [
      "1980\n",
      "1981\n",
      "1982\n",
      "1983\n",
      "1984\n",
      "1985\n",
      "1986\n",
      "1987\n",
      "1988\n",
      "1989\n",
      "1990\n",
      "1991\n",
      "1992\n",
      "1993\n",
      "1994\n",
      "1995\n",
      "1996\n",
      "1997\n",
      "1998\n",
      "1999\n",
      "2000\n",
      "2001\n",
      "2002\n",
      "2003\n",
      "2004\n",
      "2005\n",
      "2006\n",
      "2007\n",
      "2008\n",
      "2009\n",
      "2010\n",
      "2011\n",
      "2012\n",
      "2013\n",
      "2014\n",
      "2015\n",
      "2016\n",
      "2017\n",
      "2018\n",
      "2019\n",
      "2020\n",
      "2021\n",
      "2022\n",
      "2023\n"
     ]
    }
   ],
   "source": [
    "folder_path = 'GODAS_data/'\n",
    "file_pattern = 'pottmp.{year}.nc'\n",
    "start_year = 1980\n",
    "end_year = 2023\n",
    "for year in range(start_year, end_year + 1):\n",
    "    print(year)\n",
    "    file_path = os.path.join(folder_path, file_pattern.format(year=year))\n",
    "    ds = xr.open_dataset(file_path)\n",
    "    ds['pottmp'] = ds['pottmp'] - 273.15\n",
    "    ds['pottmp'].attrs['units'] = '°C'\n",
    "    output_file_path = os.path.join(folder_path, f'pottmp_{year}_C.nc')\n",
    "    ds.to_netcdf(output_file_path)\n",
    "    ds.close()"
   ]
  },
  {
   "cell_type": "code",
   "execution_count": null,
   "id": "3a17a2ec-9119-4885-b6f5-48618e6a698e",
   "metadata": {},
   "outputs": [],
   "source": []
  }
 ],
 "metadata": {
  "kernelspec": {
   "display_name": "Python 3 (ipykernel)",
   "language": "python",
   "name": "python3"
  },
  "language_info": {
   "codemirror_mode": {
    "name": "ipython",
    "version": 3
   },
   "file_extension": ".py",
   "mimetype": "text/x-python",
   "name": "python",
   "nbconvert_exporter": "python",
   "pygments_lexer": "ipython3",
   "version": "3.11.9"
  }
 },
 "nbformat": 4,
 "nbformat_minor": 5
}
